{
  "nbformat": 4,
  "nbformat_minor": 0,
  "metadata": {
    "colab": {
      "name": "cgiar dgenerator",
      "provenance": [],
      "collapsed_sections": []
    },
    "kernelspec": {
      "name": "python3",
      "display_name": "Python 3"
    },
    "accelerator": "TPU"
  },
  "cells": [
    {
      "cell_type": "code",
      "metadata": {
        "id": "hquIXhh-z3ij",
        "colab_type": "code",
        "colab": {
          "base_uri": "https://localhost:8080/",
          "height": 176
        },
        "outputId": "b1ea53a2-c05e-467c-b6af-da62f3aaafa5"
      },
      "source": [
        "# import libraries\n",
        "\n",
        "import pandas as pd\n",
        "pd.set_option('display.max_columns', None)\n",
        "from pandas import Series, DataFrame\n",
        "import numpy as np\n",
        "import os\n",
        "from math import sqrt\n",
        "from sklearn.metrics import mean_squared_error\n",
        "#import folium\n",
        "import matplotlib.pyplot as plt\n",
        "import seaborn as sns\n",
        "%matplotlib inline\n",
        "from sklearn.metrics import (brier_score_loss, precision_score, recall_score,f1_score)\n",
        "from statsmodels.stats.outliers_influence import variance_inflation_factor\n",
        "from sklearn.feature_selection import RFE, RFECV\n",
        "from sklearn.metrics import f1_score\n",
        "from sklearn.model_selection import train_test_split\n",
        "from sklearn.linear_model import LogisticRegression\n",
        "from sklearn.neighbors import NearestNeighbors\n",
        "from sklearn.tree import DecisionTreeClassifier\n",
        "from sklearn.svm import SVC\n",
        "from sklearn.ensemble import RandomForestClassifier,AdaBoostClassifier, ExtraTreesClassifier,GradientBoostingClassifier\n",
        "from sklearn.metrics import classification_report, confusion_matrix, roc_auc_score, roc_curve\n",
        "from sklearn.model_selection import cross_val_score, KFold\n",
        "from imblearn.over_sampling import SMOTE\n",
        "from sklearn.utils import resample\n",
        "from sklearn.model_selection import GridSearchCV, RandomizedSearchCV\n",
        "from math import sqrt\n",
        "from sklearn.metrics import mean_squared_error\n",
        "from sklearn.preprocessing import LabelEncoder\n",
        "#import xam\n",
        "\n",
        "import warnings\n",
        "warnings.filterwarnings(\"ignore\")\n",
        "\n",
        "%cd D:\\IPython Jupyter\\Analytics Vidya Datasets\n",
        "\n",
        "    \n",
        "\n",
        "# This Python 3 environment comes with many helpful analytics libraries installed\n",
        "# It is defined by the kaggle/python docker image: https://github.com/kaggle/docker-python\n",
        "# For example, here's several helpful packages to load in \n",
        "\n",
        "# Imported Libraries\n",
        "\n",
        "import numpy as np # linear algebra\n",
        "import pandas as pd # data processing, CSV file I/O (e.g. pd.read_csv)\n",
        "import tensorflow as tf\n",
        "import matplotlib.pyplot as plt\n",
        "import seaborn as sns\n",
        "from sklearn.manifold import TSNE\n",
        "from sklearn.decomposition import PCA, TruncatedSVD\n",
        "import matplotlib.patches as mpatches\n",
        "import time\n",
        "\n",
        "# Classifier Libraries\n",
        "from sklearn.linear_model import LogisticRegression\n",
        "from sklearn.svm import SVC\n",
        "from sklearn.neighbors import KNeighborsClassifier\n",
        "from sklearn.tree import DecisionTreeClassifier\n",
        "from sklearn.ensemble import RandomForestClassifier\n",
        "import collections\n",
        "\n",
        "\n",
        "# Other Libraries\n",
        "from sklearn.model_selection import train_test_split\n",
        "from sklearn.pipeline import make_pipeline\n",
        "from imblearn.pipeline import make_pipeline as imbalanced_make_pipeline\n",
        "from imblearn.over_sampling import SMOTE\n",
        "from imblearn.under_sampling import NearMiss\n",
        "from imblearn.metrics import classification_report_imbalanced\n",
        "from sklearn.metrics import precision_score, recall_score, f1_score, roc_auc_score, accuracy_score, classification_report\n",
        "from collections import Counter\n",
        "from sklearn.model_selection import KFold, StratifiedKFold\n",
        "import warnings\n",
        "warnings.filterwarnings(\"ignore\")\n",
        "\n"
      ],
      "execution_count": null,
      "outputs": [
        {
          "output_type": "stream",
          "text": [
            "/usr/local/lib/python3.6/dist-packages/statsmodels/tools/_testing.py:19: FutureWarning: pandas.util.testing is deprecated. Use the functions in the public API at pandas.testing instead.\n",
            "  import pandas.util.testing as tm\n",
            "/usr/local/lib/python3.6/dist-packages/sklearn/externals/six.py:31: FutureWarning: The module is deprecated in version 0.21 and will be removed in version 0.23 since we've dropped support for Python 2.7. Please rely on the official version of six (https://pypi.org/project/six/).\n",
            "  \"(https://pypi.org/project/six/).\", FutureWarning)\n",
            "/usr/local/lib/python3.6/dist-packages/sklearn/utils/deprecation.py:144: FutureWarning: The sklearn.neighbors.base module is  deprecated in version 0.22 and will be removed in version 0.24. The corresponding classes / functions should instead be imported from sklearn.neighbors. Anything that cannot be imported from sklearn.neighbors is now part of the private API.\n",
            "  warnings.warn(message, FutureWarning)\n"
          ],
          "name": "stderr"
        },
        {
          "output_type": "stream",
          "text": [
            "[Errno 2] No such file or directory: 'D:IPython JupyterAnalytics Vidya Datasets'\n",
            "/content\n"
          ],
          "name": "stdout"
        }
      ]
    },
    {
      "cell_type": "code",
      "metadata": {
        "id": "mU-r9m9T0JJX",
        "colab_type": "code",
        "colab": {}
      },
      "source": [
        "import numpy as np # linear algebra\n",
        "import pandas as pd # data processing, CSV file I/O (e.g. pd.read_csv)\n",
        "import pandas as pd\n",
        "import numpy as np\n",
        "import seaborn as sns\n",
        "import matplotlib.pyplot as plt\n",
        "from pandas import Series,DataFrame \n",
        "from datetime import date\n",
        "import datetime as DT\n",
        "import io\n",
        "from scipy import stats\n",
        "from sklearn.metrics import accuracy_score\n",
        "#import featuretools as ft\n"
      ],
      "execution_count": null,
      "outputs": []
    },
    {
      "cell_type": "code",
      "metadata": {
        "id": "qgmJF0150OAZ",
        "colab_type": "code",
        "colab": {}
      },
      "source": [
        "import tensorflow as tf\n",
        "from tensorflow.keras import Sequential\n",
        "from tensorflow.keras.layers import Flatten, Dense, Dropout, BatchNormalization, Conv2D, MaxPool2D\n",
        "from tensorflow.keras.optimizers import Adam\n",
        "from tensorflow.keras.preprocessing import image\n",
        "from sklearn.model_selection import train_test_split\n",
        "from tqdm import tqdm\n",
        "import os"
      ],
      "execution_count": null,
      "outputs": []
    },
    {
      "cell_type": "code",
      "metadata": {
        "id": "1uohOxaP2HK0",
        "colab_type": "code",
        "colab": {}
      },
      "source": [
        "import tensorflow as tf\n",
        "from tensorflow.keras.optimizers import Adam\n",
        "from tensorflow.keras.preprocessing.image import ImageDataGenerator\n",
        "\n",
        "from tensorflow.keras.layers import Conv2D, MaxPooling2D, Flatten, Dense\n",
        "\n",
        "from tensorflow.keras.callbacks import EarlyStopping, ModelCheckpoint\n",
        "from keras.models import load_model\n",
        "\n",
        "from keras.preprocessing.image import load_img, img_to_array\n"
      ],
      "execution_count": null,
      "outputs": []
    },
    {
      "cell_type": "code",
      "metadata": {
        "id": "RGN3U6px0PJN",
        "colab_type": "code",
        "colab": {
          "base_uri": "https://localhost:8080/",
          "height": 124
        },
        "outputId": "dafe794b-3602-4a7d-d70a-dabd5dd8ab26"
      },
      "source": [
        "from google.colab import drive\n",
        "drive.mount('/content/drive')"
      ],
      "execution_count": null,
      "outputs": [
        {
          "output_type": "stream",
          "text": [
            "Go to this URL in a browser: https://accounts.google.com/o/oauth2/auth?client_id=947318989803-6bn6qk8qdgf4n4g3pfee6491hc0brc4i.apps.googleusercontent.com&redirect_uri=urn%3aietf%3awg%3aoauth%3a2.0%3aoob&scope=email%20https%3a%2f%2fwww.googleapis.com%2fauth%2fdocs.test%20https%3a%2f%2fwww.googleapis.com%2fauth%2fdrive%20https%3a%2f%2fwww.googleapis.com%2fauth%2fdrive.photos.readonly%20https%3a%2f%2fwww.googleapis.com%2fauth%2fpeopleapi.readonly&response_type=code\n",
            "\n",
            "Enter your authorization code:\n",
            "··········\n",
            "Mounted at /content/drive\n"
          ],
          "name": "stdout"
        }
      ]
    },
    {
      "cell_type": "code",
      "metadata": {
        "id": "HDl6NHG83QzU",
        "colab_type": "code",
        "colab": {
          "base_uri": "https://localhost:8080/",
          "height": 224
        },
        "outputId": "f872fd73-cd9f-48d5-fa07-ecca18616a3f"
      },
      "source": [
        "df = pd.read_csv('/content/drive/My Drive/giara/jukil/Train.csv')\n",
        "samplesub = pd.read_csv('/content/drive/My Drive/giara/jukil/SampleSubmission.csv')\n",
        "print(df.shape, df.columns)\n",
        "df.head()"
      ],
      "execution_count": null,
      "outputs": [
        {
          "output_type": "stream",
          "text": [
            "(10695, 3) Index(['UID', 'growth_stage', 'label_quality'], dtype='object')\n"
          ],
          "name": "stdout"
        },
        {
          "output_type": "execute_result",
          "data": {
            "text/html": [
              "<div>\n",
              "<style scoped>\n",
              "    .dataframe tbody tr th:only-of-type {\n",
              "        vertical-align: middle;\n",
              "    }\n",
              "\n",
              "    .dataframe tbody tr th {\n",
              "        vertical-align: top;\n",
              "    }\n",
              "\n",
              "    .dataframe thead th {\n",
              "        text-align: right;\n",
              "    }\n",
              "</style>\n",
              "<table border=\"1\" class=\"dataframe\">\n",
              "  <thead>\n",
              "    <tr style=\"text-align: right;\">\n",
              "      <th></th>\n",
              "      <th>UID</th>\n",
              "      <th>growth_stage</th>\n",
              "      <th>label_quality</th>\n",
              "    </tr>\n",
              "  </thead>\n",
              "  <tbody>\n",
              "    <tr>\n",
              "      <th>0</th>\n",
              "      <td>nwuCTQKz</td>\n",
              "      <td>4</td>\n",
              "      <td>2</td>\n",
              "    </tr>\n",
              "    <tr>\n",
              "      <th>1</th>\n",
              "      <td>NVGUOzWu</td>\n",
              "      <td>1</td>\n",
              "      <td>1</td>\n",
              "    </tr>\n",
              "    <tr>\n",
              "      <th>2</th>\n",
              "      <td>1IYVvHwA</td>\n",
              "      <td>1</td>\n",
              "      <td>1</td>\n",
              "    </tr>\n",
              "    <tr>\n",
              "      <th>3</th>\n",
              "      <td>8OEdWwmU</td>\n",
              "      <td>1</td>\n",
              "      <td>1</td>\n",
              "    </tr>\n",
              "    <tr>\n",
              "      <th>4</th>\n",
              "      <td>oc5iO04j</td>\n",
              "      <td>1</td>\n",
              "      <td>1</td>\n",
              "    </tr>\n",
              "  </tbody>\n",
              "</table>\n",
              "</div>"
            ],
            "text/plain": [
              "        UID  growth_stage  label_quality\n",
              "0  nwuCTQKz             4              2\n",
              "1  NVGUOzWu             1              1\n",
              "2  1IYVvHwA             1              1\n",
              "3  8OEdWwmU             1              1\n",
              "4  oc5iO04j             1              1"
            ]
          },
          "metadata": {
            "tags": []
          },
          "execution_count": 6
        }
      ]
    },
    {
      "cell_type": "code",
      "metadata": {
        "id": "eD7U0-cC0PQX",
        "colab_type": "code",
        "colab": {}
      },
      "source": [
        "# #defining dimensions of images\n",
        "\n",
        "# img_width=100; img_height=100\n",
        "# batch_size=32"
      ],
      "execution_count": null,
      "outputs": []
    },
    {
      "cell_type": "code",
      "metadata": {
        "id": "W4zQLbgx0QEd",
        "colab_type": "code",
        "colab": {
          "base_uri": "https://localhost:8080/",
          "height": 34
        },
        "outputId": "5820f94d-6bf5-4adf-deed-256d4937fa1a"
      },
      "source": [
        "# TRAINING_DIR = '/content/drive/My Drive/giara/Data/training/'\n",
        "\n",
        "# train_datagen = ImageDataGenerator(rescale = 1/255.0)\n",
        "\n",
        "\n",
        "# train_generator = train_datagen.flow_from_directory(TRAINING_DIR,\n",
        "#                                                     batch_size=batch_size,\n",
        "#                                                     class_mode='categorical',\n",
        "#                                                     target_size=(img_height, img_width)\n",
        "#                                                     )"
      ],
      "execution_count": null,
      "outputs": [
        {
          "output_type": "stream",
          "text": [
            "Found 9087 images belonging to 7 classes.\n"
          ],
          "name": "stdout"
        }
      ]
    },
    {
      "cell_type": "code",
      "metadata": {
        "id": "SMFHQfZw1SvY",
        "colab_type": "code",
        "colab": {}
      },
      "source": [
        ""
      ],
      "execution_count": null,
      "outputs": []
    },
    {
      "cell_type": "code",
      "metadata": {
        "id": "QS_6yY_i3pPW",
        "colab_type": "code",
        "colab": {
          "base_uri": "https://localhost:8080/",
          "height": 34
        },
        "outputId": "2cc2fec0-0d17-459a-89bb-026171df776a"
      },
      "source": [
        "# VALIDATION_DIR = '/content/drive/My Drive/giara/Data/validation/'\n",
        "\n",
        "# validation_datagen = ImageDataGenerator(rescale = 1/255.0)\n",
        "\n",
        "\n",
        "# validation_generator = validation_datagen.flow_from_directory(VALIDATION_DIR,\n",
        "#                                                               batch_size=batch_size,\n",
        "#                                                               class_mode='categorical',\n",
        "#                                                               target_size=(img_height, img_width)\n",
        "#                                                              )"
      ],
      "execution_count": null,
      "outputs": [
        {
          "output_type": "stream",
          "text": [
            "Found 1608 images belonging to 7 classes.\n"
          ],
          "name": "stdout"
        }
      ]
    },
    {
      "cell_type": "code",
      "metadata": {
        "id": "zjIRGVKZ34QV",
        "colab_type": "code",
        "colab": {}
      },
      "source": [
        "# callbacks = EarlyStopping(monitor='mse', patience=5, verbose=1, mode='min')\n",
        "# best_model_file = '../CNN_best_weights_1.h5'\n",
        "# best_model = ModelCheckpoint(best_model_file, monitor='root_mean_squared_error', verbose = 1, save_best_only = True)"
      ],
      "execution_count": null,
      "outputs": []
    },
    {
      "cell_type": "code",
      "metadata": {
        "id": "EbsEAL444WmH",
        "colab_type": "code",
        "colab": {
          "base_uri": "https://localhost:8080/",
          "height": 434
        },
        "outputId": "deec305d-787d-4cf0-b66f-0b5e4e517ce7"
      },
      "source": [
        "# model = Sequential()\n",
        "# model.add(Conv2D(filters=32,kernel_size=(3,3),padding='same', activation='relu', input_shape= (100,100,3)))\n",
        "# model.add(Conv2D(filters=32,kernel_size=(3,3),padding='same', activation='relu'))\n",
        "# model.add(BatchNormalization())\n",
        "# model.add(MaxPool2D(pool_size=(2,2), strides=2, padding='valid'))\n",
        "# model.add(Dropout(0.5))\n",
        "\n",
        "# model.add(Flatten())\n",
        "# model.add(Dense(units=128, activation='relu'))\n",
        "# model.add(Dense(units=7, activation='softmax'))\n",
        "\n",
        "# model.summary()"
      ],
      "execution_count": null,
      "outputs": [
        {
          "output_type": "stream",
          "text": [
            "Model: \"sequential\"\n",
            "_________________________________________________________________\n",
            "Layer (type)                 Output Shape              Param #   \n",
            "=================================================================\n",
            "conv2d (Conv2D)              (None, 100, 100, 32)      896       \n",
            "_________________________________________________________________\n",
            "conv2d_1 (Conv2D)            (None, 100, 100, 32)      9248      \n",
            "_________________________________________________________________\n",
            "batch_normalization (BatchNo (None, 100, 100, 32)      128       \n",
            "_________________________________________________________________\n",
            "max_pooling2d (MaxPooling2D) (None, 50, 50, 32)        0         \n",
            "_________________________________________________________________\n",
            "dropout (Dropout)            (None, 50, 50, 32)        0         \n",
            "_________________________________________________________________\n",
            "flatten (Flatten)            (None, 80000)             0         \n",
            "_________________________________________________________________\n",
            "dense (Dense)                (None, 128)               10240128  \n",
            "_________________________________________________________________\n",
            "dense_1 (Dense)              (None, 7)                 903       \n",
            "=================================================================\n",
            "Total params: 10,251,303\n",
            "Trainable params: 10,251,239\n",
            "Non-trainable params: 64\n",
            "_________________________________________________________________\n"
          ],
          "name": "stdout"
        }
      ]
    },
    {
      "cell_type": "code",
      "metadata": {
        "id": "Y6ybn2ik4Www",
        "colab_type": "code",
        "colab": {
          "base_uri": "https://localhost:8080/",
          "height": 781
        },
        "outputId": "fa7fb45e-f493-4c19-9dfd-f0a18df05dca"
      },
      "source": [
        "# model = tf.keras.models.Sequential([\n",
        "#     Conv2D(16, (3, 3), activation='relu', input_shape=(img_height, img_width, 3)),\n",
        "#     MaxPooling2D(2, 2),\n",
        "    \n",
        "#     Conv2D(32, (3, 3), activation='relu'),\n",
        "#     MaxPooling2D(2, 2),\n",
        "    \n",
        "#     Conv2D(64, (3, 3), activation='relu'),\n",
        "#     Conv2D(64, (3, 3), activation='relu'),\n",
        "#     MaxPooling2D(2, 2),\n",
        "    \n",
        "#     Conv2D(128, (3, 3), activation='relu'),\n",
        "#     Conv2D(128, (3, 3), activation='relu'),\n",
        "#     MaxPooling2D(2, 2),\n",
        "    \n",
        "#     Conv2D(256, (3, 3), activation='relu'),\n",
        "#     Conv2D(256, (3, 3), activation='relu'),\n",
        "#     Conv2D(256, (3, 3), activation='relu'),\n",
        "#     MaxPooling2D(2, 2),\n",
        "    \n",
        "#     Flatten(),\n",
        "#     Dense(512, activation='relu'),\n",
        "#     Dense(512, activation='relu'),\n",
        "#     Dense(7, activation='softmax')\n",
        "# ])\n",
        "\n",
        "# model.summary()"
      ],
      "execution_count": null,
      "outputs": [
        {
          "output_type": "stream",
          "text": [
            "Model: \"sequential\"\n",
            "_________________________________________________________________\n",
            "Layer (type)                 Output Shape              Param #   \n",
            "=================================================================\n",
            "conv2d (Conv2D)              (None, 254, 254, 16)      448       \n",
            "_________________________________________________________________\n",
            "max_pooling2d (MaxPooling2D) (None, 127, 127, 16)      0         \n",
            "_________________________________________________________________\n",
            "conv2d_1 (Conv2D)            (None, 125, 125, 32)      4640      \n",
            "_________________________________________________________________\n",
            "max_pooling2d_1 (MaxPooling2 (None, 62, 62, 32)        0         \n",
            "_________________________________________________________________\n",
            "conv2d_2 (Conv2D)            (None, 60, 60, 64)        18496     \n",
            "_________________________________________________________________\n",
            "conv2d_3 (Conv2D)            (None, 58, 58, 64)        36928     \n",
            "_________________________________________________________________\n",
            "max_pooling2d_2 (MaxPooling2 (None, 29, 29, 64)        0         \n",
            "_________________________________________________________________\n",
            "conv2d_4 (Conv2D)            (None, 27, 27, 128)       73856     \n",
            "_________________________________________________________________\n",
            "conv2d_5 (Conv2D)            (None, 25, 25, 128)       147584    \n",
            "_________________________________________________________________\n",
            "max_pooling2d_3 (MaxPooling2 (None, 12, 12, 128)       0         \n",
            "_________________________________________________________________\n",
            "conv2d_6 (Conv2D)            (None, 10, 10, 256)       295168    \n",
            "_________________________________________________________________\n",
            "conv2d_7 (Conv2D)            (None, 8, 8, 256)         590080    \n",
            "_________________________________________________________________\n",
            "conv2d_8 (Conv2D)            (None, 6, 6, 256)         590080    \n",
            "_________________________________________________________________\n",
            "max_pooling2d_4 (MaxPooling2 (None, 3, 3, 256)         0         \n",
            "_________________________________________________________________\n",
            "flatten (Flatten)            (None, 2304)              0         \n",
            "_________________________________________________________________\n",
            "dense (Dense)                (None, 512)               1180160   \n",
            "_________________________________________________________________\n",
            "dense_1 (Dense)              (None, 512)               262656    \n",
            "_________________________________________________________________\n",
            "dense_2 (Dense)              (None, 7)                 3591      \n",
            "=================================================================\n",
            "Total params: 3,203,687\n",
            "Trainable params: 3,203,687\n",
            "Non-trainable params: 0\n",
            "_________________________________________________________________\n"
          ],
          "name": "stdout"
        }
      ]
    },
    {
      "cell_type": "code",
      "metadata": {
        "id": "1tQEdCeK4XPO",
        "colab_type": "code",
        "colab": {}
      },
      "source": [
        "# model.compile(optimizer='Adam',loss='mse', metrics=[tf.keras.metrics.RootMeanSquaredError()])"
      ],
      "execution_count": null,
      "outputs": []
    },
    {
      "cell_type": "code",
      "metadata": {
        "id": "9MvlqHoE4XTg",
        "colab_type": "code",
        "colab": {
          "base_uri": "https://localhost:8080/",
          "height": 523
        },
        "outputId": "2e34f84b-f1ce-497f-a357-aefb8bfec325"
      },
      "source": [
        "# history = model.fit_generator(train_generator,\n",
        "#                               epochs=5,\n",
        "#                               verbose=1,\n",
        "#                               validation_data=validation_generator,\n",
        "#                               callbacks = [best_model, callbacks]\n",
        "#                               )"
      ],
      "execution_count": null,
      "outputs": [
        {
          "output_type": "stream",
          "text": [
            "WARNING:tensorflow:From <ipython-input-13-0b7b03345540>:5: Model.fit_generator (from tensorflow.python.keras.engine.training) is deprecated and will be removed in a future version.\n",
            "Instructions for updating:\n",
            "Please use Model.fit, which supports generators.\n",
            "Epoch 1/5\n",
            "284/284 [==============================] - ETA: 0s - loss: 0.2159 - root_mean_squared_error: 0.4647\n",
            "Epoch 00001: root_mean_squared_error improved from inf to 0.46470, saving model to ../CNN_best_weights_1.h5\n",
            "WARNING:tensorflow:Early stopping conditioned on metric `mse` which is not available. Available metrics are: loss,root_mean_squared_error,val_loss,val_root_mean_squared_error\n",
            "284/284 [==============================] - 2186s 8s/step - loss: 0.2159 - root_mean_squared_error: 0.4647 - val_loss: 0.1873 - val_root_mean_squared_error: 0.4327\n",
            "Epoch 2/5\n",
            "284/284 [==============================] - ETA: 0s - loss: 0.1879 - root_mean_squared_error: 0.4335\n",
            "Epoch 00002: root_mean_squared_error improved from 0.46470 to 0.43347, saving model to ../CNN_best_weights_1.h5\n",
            "WARNING:tensorflow:Early stopping conditioned on metric `mse` which is not available. Available metrics are: loss,root_mean_squared_error,val_loss,val_root_mean_squared_error\n",
            "284/284 [==============================] - 307s 1s/step - loss: 0.1879 - root_mean_squared_error: 0.4335 - val_loss: 0.1908 - val_root_mean_squared_error: 0.4368\n",
            "Epoch 3/5\n",
            "284/284 [==============================] - ETA: 0s - loss: 0.1890 - root_mean_squared_error: 0.4347\n",
            "Epoch 00003: root_mean_squared_error did not improve from 0.43347\n",
            "WARNING:tensorflow:Early stopping conditioned on metric `mse` which is not available. Available metrics are: loss,root_mean_squared_error,val_loss,val_root_mean_squared_error\n",
            "284/284 [==============================] - 310s 1s/step - loss: 0.1890 - root_mean_squared_error: 0.4347 - val_loss: 0.1886 - val_root_mean_squared_error: 0.4342\n",
            "Epoch 4/5\n",
            "284/284 [==============================] - ETA: 0s - loss: 0.1891 - root_mean_squared_error: 0.4349\n",
            "Epoch 00004: root_mean_squared_error did not improve from 0.43347\n",
            "WARNING:tensorflow:Early stopping conditioned on metric `mse` which is not available. Available metrics are: loss,root_mean_squared_error,val_loss,val_root_mean_squared_error\n",
            "284/284 [==============================] - 304s 1s/step - loss: 0.1891 - root_mean_squared_error: 0.4349 - val_loss: 0.1886 - val_root_mean_squared_error: 0.4343\n",
            "Epoch 5/5\n",
            "284/284 [==============================] - ETA: 0s - loss: 0.2013 - root_mean_squared_error: 0.4486\n",
            "Epoch 00005: root_mean_squared_error did not improve from 0.43347\n",
            "WARNING:tensorflow:Early stopping conditioned on metric `mse` which is not available. Available metrics are: loss,root_mean_squared_error,val_loss,val_root_mean_squared_error\n",
            "284/284 [==============================] - 308s 1s/step - loss: 0.2013 - root_mean_squared_error: 0.4486 - val_loss: 0.2042 - val_root_mean_squared_error: 0.4518\n"
          ],
          "name": "stdout"
        }
      ]
    },
    {
      "cell_type": "code",
      "metadata": {
        "id": "P9ZotAwc6FTN",
        "colab_type": "code",
        "colab": {}
      },
      "source": [
        "# target_dir = '/content/drive/My Drive/giara/Data/training/'\n",
        "# if not os.path.exists(target_dir):\n",
        "#   os.mkdir(target_dir)\n",
        "# model.save(target_dir + 'CNN_model_256.h5')\n",
        "# model.save_weights(target_dir + 'CNN_weights_256.h5')"
      ],
      "execution_count": null,
      "outputs": []
    },
    {
      "cell_type": "code",
      "metadata": {
        "id": "fWh4D4Ra7mGn",
        "colab_type": "code",
        "colab": {}
      },
      "source": [
        "# rmse=history.history['root_mean_squared_error']\n",
        "# val_rmse=history.history['val_root_mean_squared_error']\n",
        "# loss=history.history['loss']\n",
        "# val_loss=history.history['val_loss']\n",
        "\n",
        "# epochs=range(len(rmse))\n"
      ],
      "execution_count": null,
      "outputs": []
    },
    {
      "cell_type": "code",
      "metadata": {
        "id": "ndhLTwKI9ELa",
        "colab_type": "code",
        "colab": {
          "base_uri": "https://localhost:8080/",
          "height": 539
        },
        "outputId": "20f43122-b317-44dc-e79b-3949ac7c0cc7"
      },
      "source": [
        "# fig = plt.figure(figsize=(20,10))\n",
        "# plt.plot(epochs, rmse, 'r', label=\"Training RMSE\")\n",
        "# plt.plot(epochs, val_rmse, 'b', label=\"Validation RMSE\")\n",
        "# plt.xlabel('Epoch')\n",
        "# plt.ylabel('Root_mean_squared_error')\n",
        "# plt.title('Training and validation RMSE')\n",
        "# plt.legend(loc='lower right')\n",
        "# plt.show()\n",
        "# fig.savefig('/content/drive/My Drive/giara/Data/training/RMSE_curve_CNN_256.jpg')\n"
      ],
      "execution_count": null,
      "outputs": [
        {
          "output_type": "display_data",
          "data": {
            "image/png": "[encoded data removed]",
            "text/plain": [
              "<Figure size 1440x720 with 1 Axes>"
            ]
          },
          "metadata": {
            "tags": [],
            "needs_background": "light"
          }
        }
      ]
    },
    {
      "cell_type": "code",
      "metadata": {
        "id": "aU271lrx9QOr",
        "colab_type": "code",
        "colab": {
          "base_uri": "https://localhost:8080/",
          "height": 540
        },
        "outputId": "b8e08876-9e79-445d-87c0-454058f09ede"
      },
      "source": [
        "# fig2 = plt.figure(figsize=(20,10))\n",
        "# plt.plot(epochs, loss, 'r', label=\"Training Loss\")\n",
        "# plt.plot(epochs, val_loss, 'b', label=\"Validation Loss\")\n",
        "# plt.legend(loc='upper right')\n",
        "# plt.xlabel('Epoch')\n",
        "# plt.ylabel('Loss')\n",
        "# plt.title('Training and validation loss')\n",
        "# fig2.savefig('/content/drive/My Drive/giara/Data/training/Loss_curve_CNN_256.jpg')"
      ],
      "execution_count": null,
      "outputs": [
        {
          "output_type": "display_data",
          "data": {
            "image/png": "[encoded data removed]",
            "text/plain": [
              "<Figure size 1440x720 with 1 Axes>"
            ]
          },
          "metadata": {
            "tags": [],
            "needs_background": "light"
          }
        }
      ]
    },
    {
      "cell_type": "code",
      "metadata": {
        "id": "S5HhUe580JPN",
        "colab_type": "code",
        "colab": {}
      },
      "source": [
        ""
      ],
      "execution_count": null,
      "outputs": []
    },
    {
      "cell_type": "code",
      "metadata": {
        "id": "E014M6Rh1WuU",
        "colab_type": "code",
        "colab": {}
      },
      "source": [
        ""
      ],
      "execution_count": null,
      "outputs": []
    },
    {
      "cell_type": "code",
      "metadata": {
        "id": "Kzt1fAjw1W0c",
        "colab_type": "code",
        "colab": {
          "base_uri": "https://localhost:8080/",
          "height": 34
        },
        "outputId": "6da283af-315e-4f03-beb9-65fa3fec5751"
      },
      "source": [
        "# #Now we define image dimensions AND Convert images to matrix/arrays\n",
        "# img_height = 100\n",
        "# img_width = 100\n",
        "\n",
        "# Xt = []\n",
        "\n",
        "# for i in tqdm(range(samplesub.shape[0])):\n",
        "#     path = '/content/drive/My Drive/giara/jukil/test/' + samplesub['UID'][i] + '.jpeg'\n",
        "#     img = image.load_img(path, target_size=(img_height, img_width, 3))\n",
        "#     img = image.img_to_array(img)\n",
        "#     img = img/255.0\n",
        "#     Xt.append(img)\n",
        "    \n",
        "# Xt = np.array(Xt)"
      ],
      "execution_count": null,
      "outputs": [
        {
          "output_type": "stream",
          "text": [
            "100%|██████████| 3558/3558 [12:13<00:00,  4.85it/s]\n"
          ],
          "name": "stderr"
        }
      ]
    },
    {
      "cell_type": "code",
      "metadata": {
        "id": "NryR5bIM3Mgy",
        "colab_type": "code",
        "colab": {}
      },
      "source": [
        "# #PREDICTING THE TEST SET\n",
        "# poll=model.predict_classes(Xt)"
      ],
      "execution_count": null,
      "outputs": []
    },
    {
      "cell_type": "code",
      "metadata": {
        "id": "1Mjj5PJI7PZ3",
        "colab_type": "code",
        "colab": {
          "base_uri": "https://localhost:8080/",
          "height": 34
        },
        "outputId": "4df3fb35-67ee-4824-d0e8-f9b5d8c89c88"
      },
      "source": [
        "# np.unique(poll)    #checking for uniqueness in the predicted values"
      ],
      "execution_count": null,
      "outputs": [
        {
          "output_type": "execute_result",
          "data": {
            "text/plain": [
              "array([1, 4])"
            ]
          },
          "metadata": {
            "tags": []
          },
          "execution_count": 16
        }
      ]
    },
    {
      "cell_type": "code",
      "metadata": {
        "id": "82ePNOvM3w17",
        "colab_type": "code",
        "colab": {}
      },
      "source": [
        "# #MAKING THE SUBMISSION FILE\n",
        "\n",
        "# freeman = samplesub.copy()\n",
        "# freeman['growth_stage']=poll\n",
        "\n",
        "# freeman.to_csv('cgiar23.csv', index=False)\n"
      ],
      "execution_count": null,
      "outputs": []
    },
    {
      "cell_type": "code",
      "metadata": {
        "id": "mxh_cPEC3xL-",
        "colab_type": "code",
        "colab": {}
      },
      "source": [
        ""
      ],
      "execution_count": null,
      "outputs": []
    },
    {
      "cell_type": "code",
      "metadata": {
        "id": "HNLLX-P93zNL",
        "colab_type": "code",
        "colab": {}
      },
      "source": [
        "#JUST A DIFFERENT METHOD OF CARRYING OUT THE PREPROCESSING OF THE TESTSET"
      ],
      "execution_count": null,
      "outputs": []
    },
    {
      "cell_type": "code",
      "metadata": {
        "id": "4btsp4VT9XVF",
        "colab_type": "code",
        "cellView": "form",
        "colab": {}
      },
      "source": [
        "#@title\n",
        "# def preprocess_image(path):\n",
        "#     img = load_img(path, target_size = (img_height, img_width))\n",
        "#     a = img_to_array(img)\n",
        "#     a = np.expand_dims(a, axis = 0)\n",
        "#     a /= 255.\n",
        "#     return a\n",
        "\n",
        "\n",
        "# test_images_dir = '/content/drive/My Drive/giara/jukil/test/'\n",
        "\n",
        "\n",
        "# test_df = samplesub\n",
        "# test_df['UID'] = test_df['UID'] + \".jpeg\"\n",
        "# test_dfToList = test_df['UID'].tolist()\n",
        "# test_ids = [str(item) for item in test_dfToList]\n",
        "\n",
        "\n",
        "\n",
        "# test_images = [test_images_dir+item for item in test_ids]\n",
        "# test_preprocessed_images = np.vstack([preprocess_image(fn) for fn in test_images])\n",
        "\n",
        "\n",
        "# np.save('/content/drive/My Drive/giara/test_preproc_CNN.npy', test_preprocessed_images)\n"
      ],
      "execution_count": null,
      "outputs": []
    },
    {
      "cell_type": "code",
      "metadata": {
        "id": "KDyvGu7p_B8d",
        "colab_type": "code",
        "colab": {}
      },
      "source": [
        ""
      ],
      "execution_count": null,
      "outputs": []
    },
    {
      "cell_type": "code",
      "metadata": {
        "id": "qbsEyhNQjlbT",
        "colab_type": "code",
        "colab": {
          "base_uri": "https://localhost:8080/",
          "height": 34
        },
        "outputId": "fbe33696-c98b-405d-c895-e637544fdef1"
      },
      "source": [
        "# # load weights into new model\n",
        "# model= load_model('/content/drive/My Drive/giara/Data/training/CNN_model_256.h5')\n",
        "# print(\"Loaded model from disk\")\n",
        "\n",
        "# # evaluate loaded model on test data\n",
        "# model.compile(loss='mse', optimizer='Adam', metrics=['root_mean_squared_error'])\n"
      ],
      "execution_count": null,
      "outputs": [
        {
          "output_type": "stream",
          "text": [
            "Loaded model from disk\n"
          ],
          "name": "stdout"
        }
      ]
    },
    {
      "cell_type": "code",
      "metadata": {
        "id": "1wBxVVT8q3v4",
        "colab_type": "code",
        "colab": {}
      },
      "source": [
        ""
      ],
      "execution_count": null,
      "outputs": []
    },
    {
      "cell_type": "code",
      "metadata": {
        "id": "_NQ6LQl3q33q",
        "colab_type": "code",
        "colab": {}
      },
      "source": [
        ""
      ],
      "execution_count": null,
      "outputs": []
    },
    {
      "cell_type": "code",
      "metadata": {
        "id": "N1CGar9Tjfcl",
        "colab_type": "code",
        "colab": {}
      },
      "source": [
        "import tensorflow as tf\n",
        "import matplotlib.image as img\n",
        "%matplotlib inline\n",
        "import numpy as np\n",
        "from collections import defaultdict\n",
        "import collections\n",
        "from shutil import copy\n",
        "from shutil import copytree, rmtree\n",
        "import tensorflow.keras.backend as K\n",
        "from tensorflow.keras.models import load_model\n",
        "from tensorflow.keras.preprocessing import image\n",
        "import matplotlib.pyplot as plt\n",
        "import numpy as np\n",
        "import os\n",
        "import random\n",
        "import tensorflow as tf\n",
        "import tensorflow.keras.backend as K\n",
        "from tensorflow.keras import regularizers\n",
        "from tensorflow.keras.applications.inception_v3 import InceptionV3\n",
        "from tensorflow.keras.models import Sequential, Model\n",
        "from tensorflow.keras.layers import Dense, Dropout, Activation, Flatten\n",
        "from tensorflow.keras.layers import Convolution2D, MaxPooling2D, ZeroPadding2D, GlobalAveragePooling2D, AveragePooling2D\n",
        "from tensorflow.keras.preprocessing.image import ImageDataGenerator\n",
        "from tensorflow.keras.callbacks import ModelCheckpoint, CSVLogger\n",
        "from tensorflow.keras.optimizers import SGD\n",
        "from tensorflow.keras.regularizers import l2\n",
        "from tensorflow import keras\n",
        "from tensorflow.keras import models\n",
        "import cv2\n",
        "\n",
        "import PIL.Image\n",
        "from PIL.Image import open\n"
      ],
      "execution_count": null,
      "outputs": []
    },
    {
      "cell_type": "code",
      "metadata": {
        "id": "8zox1VaUjfgb",
        "colab_type": "code",
        "colab": {}
      },
      "source": [
        ""
      ],
      "execution_count": null,
      "outputs": []
    },
    {
      "cell_type": "code",
      "metadata": {
        "id": "EwkJdhKysEQM",
        "colab_type": "code",
        "colab": {
          "base_uri": "https://localhost:8080/",
          "height": 52
        },
        "outputId": "1e87cda0-8555-424c-b712-555068d0c9a7"
      },
      "source": [
        "n_classes = 7\n",
        "img_width, img_height = 100, 100\n",
        "train_data_dir = '/content/drive/My Drive/giara/Data/training/'\n",
        "validation_data_dir = '/content/drive/My Drive/giara/Data/validation/'\n",
        "nb_train_samples = 9087\n",
        "nb_validation_samples = 1608\n",
        "batch_size = 132\n",
        "\n",
        "train_datagen = ImageDataGenerator(\n",
        "    rescale=1. / 255)\n",
        "\n",
        "validation_datagen = ImageDataGenerator(rescale=1. / 255)\n",
        "\n",
        "train_generator = train_datagen.flow_from_directory(\n",
        "    train_data_dir,\n",
        "    target_size=(img_height, img_width),\n",
        "    batch_size=batch_size,\n",
        "    class_mode='categorical')\n",
        "\n",
        "validation_generator = validation_datagen.flow_from_directory(\n",
        "    validation_data_dir,\n",
        "    target_size=(img_height, img_width),\n",
        "    batch_size=batch_size,\n",
        "    class_mode='categorical')\n",
        "\n",
        "\n",
        "# inception = InceptionV3(weights='imagenet', include_top=False)\n",
        "# x = inception.output\n",
        "# x = GlobalAveragePooling2D()(x)\n",
        "# x = Dense(128,activation='relu')(x)\n",
        "# x = Dropout(0.2)(x)\n",
        "\n",
        "# predictions = Dense(3,kernel_regularizer=regularizers.l2(0.005), activation='softmax')(x)\n",
        "\n",
        "# model = Model(inputs=inception.input, outputs=predictions)\n",
        "# model.compile(optimizer=SGD(lr=0.0001, momentum=0.9), loss='categorical_crossentropy', metrics=['accuracy'])\n",
        "# checkpointer = ModelCheckpoint(filepath='best_model_3class.hdf5', verbose=1, save_best_only=True)\n",
        "# csv_logger = CSVLogger('history_3class.log')\n",
        "\n",
        "# history = model.fit_generator(train_generator,\n",
        "#                     steps_per_epoch = nb_train_samples // batch_size,\n",
        "#                     validation_data=validation_generator,\n",
        "#                     validation_steps=nb_validation_samples // batch_size,\n",
        "#                     epochs=30,\n",
        "#                     verbose=1,\n",
        "#                     callbacks=[csv_logger, checkpointer])\n",
        "\n",
        "# model.save('model_trained_3class.hdf5')"
      ],
      "execution_count": null,
      "outputs": [
        {
          "output_type": "stream",
          "text": [
            "Found 9087 images belonging to 7 classes.\n",
            "Found 1608 images belonging to 7 classes.\n"
          ],
          "name": "stdout"
        }
      ]
    },
    {
      "cell_type": "code",
      "metadata": {
        "id": "LSfMDOb6fUUQ",
        "colab_type": "code",
        "colab": {
          "base_uri": "https://localhost:8080/",
          "height": 434
        },
        "outputId": "bf772fd6-6c06-44ec-bc92-f6de4f0e73d2"
      },
      "source": [
        "model = Sequential()\n",
        "input= model.add(Conv2D(filters=32,kernel_size=(3,3),padding='same', activation='relu', input_shape= (100,100,3)))\n",
        "model.add(Conv2D(filters=32,kernel_size=(3,3),padding='same', activation='relu'))\n",
        "model.add(BatchNormalization())\n",
        "model.add(MaxPool2D(pool_size=(2,2), strides=2, padding='valid'))\n",
        "model.add(Dropout(0.5))\n",
        "\n",
        "model.add(Flatten())\n",
        "model.add(Dense(units=128, activation='relu'))\n",
        "predictions= model.add(Dense(units=7, activation='softmax'))\n",
        "\n",
        "model.summary()\n",
        "\n",
        "\n",
        "\n"
      ],
      "execution_count": null,
      "outputs": [
        {
          "output_type": "stream",
          "text": [
            "Model: \"sequential_2\"\n",
            "_________________________________________________________________\n",
            "Layer (type)                 Output Shape              Param #   \n",
            "=================================================================\n",
            "conv2d_4 (Conv2D)            (None, 100, 100, 32)      896       \n",
            "_________________________________________________________________\n",
            "conv2d_5 (Conv2D)            (None, 100, 100, 32)      9248      \n",
            "_________________________________________________________________\n",
            "batch_normalization_2 (Batch (None, 100, 100, 32)      128       \n",
            "_________________________________________________________________\n",
            "max_pooling2d_2 (MaxPooling2 (None, 50, 50, 32)        0         \n",
            "_________________________________________________________________\n",
            "dropout_2 (Dropout)          (None, 50, 50, 32)        0         \n",
            "_________________________________________________________________\n",
            "flatten_2 (Flatten)          (None, 80000)             0         \n",
            "_________________________________________________________________\n",
            "dense_4 (Dense)              (None, 128)               10240128  \n",
            "_________________________________________________________________\n",
            "dense_5 (Dense)              (None, 7)                 903       \n",
            "=================================================================\n",
            "Total params: 10,251,303\n",
            "Trainable params: 10,251,239\n",
            "Non-trainable params: 64\n",
            "_________________________________________________________________\n"
          ],
          "name": "stdout"
        }
      ]
    },
    {
      "cell_type": "code",
      "metadata": {
        "id": "fUdmlymdf6hH",
        "colab_type": "code",
        "colab": {
          "base_uri": "https://localhost:8080/",
          "height": 454
        },
        "outputId": "467cf669-d2df-4d5f-aa08-247b58653705"
      },
      "source": [
        "\n",
        "model = model\n",
        "model.compile(optimizer='sgd',loss='mse', metrics=[tf.keras.metrics.RootMeanSquaredError()])\n",
        "checkpointer = ModelCheckpoint(filepath='/content/drive/My Drive/giara/best_model_7class.hdf5', verbose=1, save_best_only=True)\n",
        "csv_logger = CSVLogger('/content/drive/My Drive/giara/history_7class.log')\n",
        "\n",
        "\n",
        "history = model.fit_generator(train_generator,\n",
        "                    steps_per_epoch = nb_train_samples // batch_size,\n",
        "                    validation_data=validation_generator,\n",
        "                    validation_steps=nb_validation_samples // batch_size,\n",
        "                    epochs=6,\n",
        "                    verbose=1,\n",
        "                    callbacks=[csv_logger, checkpointer])\n",
        "\n",
        "model.save('model_trained_7class.hdf5')"
      ],
      "execution_count": null,
      "outputs": [
        {
          "output_type": "stream",
          "text": [
            "Epoch 1/6\n",
            "68/68 [==============================] - ETA: 0s - loss: 0.2201 - root_mean_squared_error: 0.4692 \n",
            "Epoch 00001: val_loss improved from inf to 0.21272, saving model to /content/drive/My Drive/giara/best_model_7class.hdf5\n",
            "68/68 [==============================] - 1677s 25s/step - loss: 0.2201 - root_mean_squared_error: 0.4692 - val_loss: 0.2127 - val_root_mean_squared_error: 0.4612\n",
            "Epoch 2/6\n",
            "68/68 [==============================] - ETA: 0s - loss: 0.2187 - root_mean_squared_error: 0.4677\n",
            "Epoch 00002: val_loss did not improve from 0.21272\n",
            "68/68 [==============================] - 286s 4s/step - loss: 0.2187 - root_mean_squared_error: 0.4677 - val_loss: 0.2172 - val_root_mean_squared_error: 0.4661\n",
            "Epoch 3/6\n",
            "68/68 [==============================] - ETA: 0s - loss: 0.2173 - root_mean_squared_error: 0.4662\n",
            "Epoch 00003: val_loss did not improve from 0.21272\n",
            "68/68 [==============================] - 290s 4s/step - loss: 0.2173 - root_mean_squared_error: 0.4662 - val_loss: 0.2143 - val_root_mean_squared_error: 0.4629\n",
            "Epoch 4/6\n",
            "68/68 [==============================] - ETA: 0s - loss: 0.2150 - root_mean_squared_error: 0.4636\n",
            "Epoch 00004: val_loss did not improve from 0.21272\n",
            "68/68 [==============================] - 287s 4s/step - loss: 0.2150 - root_mean_squared_error: 0.4636 - val_loss: 0.2161 - val_root_mean_squared_error: 0.4648\n",
            "Epoch 5/6\n",
            "68/68 [==============================] - ETA: 0s - loss: 0.2185 - root_mean_squared_error: 0.4674\n",
            "Epoch 00005: val_loss did not improve from 0.21272\n",
            "68/68 [==============================] - 290s 4s/step - loss: 0.2185 - root_mean_squared_error: 0.4674 - val_loss: 0.2174 - val_root_mean_squared_error: 0.4663\n",
            "Epoch 6/6\n",
            "68/68 [==============================] - ETA: 0s - loss: 0.2171 - root_mean_squared_error: 0.4659\n",
            "Epoch 00006: val_loss did not improve from 0.21272\n",
            "68/68 [==============================] - 286s 4s/step - loss: 0.2171 - root_mean_squared_error: 0.4659 - val_loss: 0.2182 - val_root_mean_squared_error: 0.4671\n"
          ],
          "name": "stdout"
        }
      ]
    },
    {
      "cell_type": "code",
      "metadata": {
        "id": "WNfh0plqf6ks",
        "colab_type": "code",
        "colab": {}
      },
      "source": [
        ""
      ],
      "execution_count": null,
      "outputs": []
    },
    {
      "cell_type": "code",
      "metadata": {
        "id": "ZNzyW2Wkf6q8",
        "colab_type": "code",
        "colab": {
          "base_uri": "https://localhost:8080/",
          "height": 139
        },
        "outputId": "7efc89e4-af88-4687-daa6-bb4be07bb192"
      },
      "source": [
        "class_map_3 = train_generator.class_indices\n",
        "class_map_3"
      ],
      "execution_count": null,
      "outputs": [
        {
          "output_type": "execute_result",
          "data": {
            "text/plain": [
              "{'anthesisV_6': 0,\n",
              " 'crownV_1': 1,\n",
              " 'earlyV_2': 2,\n",
              " 'floweringV_5': 3,\n",
              " 'lateV_4': 4,\n",
              " 'maturityV_7': 5,\n",
              " 'midV_3': 6}"
            ]
          },
          "metadata": {
            "tags": []
          },
          "execution_count": 24
        }
      ]
    },
    {
      "cell_type": "code",
      "metadata": {
        "id": "rn67goG8f602",
        "colab_type": "code",
        "colab": {}
      },
      "source": [
        ""
      ],
      "execution_count": null,
      "outputs": []
    },
    {
      "cell_type": "code",
      "metadata": {
        "id": "_qCN1n3Uf66W",
        "colab_type": "code",
        "colab": {
          "base_uri": "https://localhost:8080/",
          "height": 573
        },
        "outputId": "feda6ed2-3527-449e-ec74-49a7978f00ed"
      },
      "source": [
        "def plot_rmse(history,title):\n",
        "    plt.title(title)\n",
        "    plt.plot(history.history['root_mean_squared_error'])\n",
        "    plt.plot(history.history['val_root_mean_squared_error'])\n",
        "    plt.ylabel('root_mean_squared_error')\n",
        "    plt.xlabel('epoch')\n",
        "    plt.legend(['train_RMSE', 'validation_RMSE'], loc='best')\n",
        "    plt.show()\n",
        "def plot_loss(history,title):\n",
        "    plt.title(title)\n",
        "    plt.plot(history.history['loss'])\n",
        "    plt.plot(history.history['val_loss'])\n",
        "    plt.ylabel('loss')\n",
        "    plt.xlabel('epoch')\n",
        "    plt.legend(['train_loss', 'validation_loss'], loc='best')\n",
        "    plt.show()\n",
        "\n",
        "plot_rmse(history,'RMSE Train and Validation')\n",
        "plot_loss(history,'Loss and Validation loss')"
      ],
      "execution_count": null,
      "outputs": [
        {
          "output_type": "display_data",
          "data": {
            "image/png": "[encoded data removed]",
            "text/plain": [
              "<Figure size 432x288 with 1 Axes>"
            ]
          },
          "metadata": {
            "tags": [],
            "needs_background": "light"
          }
        },
        {
          "output_type": "display_data",
          "data": {
            "image/png": "[encoded data removed]",
            "text/plain": [
              "<Figure size 432x288 with 1 Axes>"
            ]
          },
          "metadata": {
            "tags": [],
            "needs_background": "light"
          }
        }
      ]
    },
    {
      "cell_type": "code",
      "metadata": {
        "id": "RWugNeCXf64k",
        "colab_type": "code",
        "colab": {}
      },
      "source": [
        ""
      ],
      "execution_count": null,
      "outputs": []
    },
    {
      "cell_type": "code",
      "metadata": {
        "id": "1AZscQ-Of6yf",
        "colab_type": "code",
        "colab": {
          "base_uri": "https://localhost:8080/",
          "height": 52
        },
        "outputId": "7911de52-4be7-4a56-b0f6-96ec00e8201a"
      },
      "source": [
        "%%time\n",
        "# Loading the best saved model to make predictions\n",
        "#K.clear_session()\n",
        "model_best = load_model('/content/drive/My Drive/giara/best_model_7class.hdf5',compile = False)\n"
      ],
      "execution_count": null,
      "outputs": [
        {
          "output_type": "stream",
          "text": [
            "CPU times: user 233 ms, sys: 32.3 ms, total: 266 ms\n",
            "Wall time: 520 ms\n"
          ],
          "name": "stdout"
        }
      ]
    },
    {
      "cell_type": "code",
      "metadata": {
        "id": "1jSl_jD74m8-",
        "colab_type": "code",
        "colab": {}
      },
      "source": [
        ""
      ],
      "execution_count": null,
      "outputs": []
    },
    {
      "cell_type": "markdown",
      "metadata": {
        "id": "_3Fg5I_14nVa",
        "colab_type": "text"
      },
      "source": [
        "\n",
        "\n",
        "    Setting compile=False and clearing the session leads to faster loading of the saved model\n",
        "    Withouth the above addiitons, model loading was taking more than a minute!\n",
        "\n"
      ]
    },
    {
      "cell_type": "code",
      "metadata": {
        "id": "IP_z-rtzf6vB",
        "colab_type": "code",
        "colab": {}
      },
      "source": [
        "class_list = ['anthesisV_6', 'crownV_1', 'earlyV_2', 'floweringV_5', 'lateV_4', 'maturityV_7', 'midV_3']"
      ],
      "execution_count": null,
      "outputs": []
    },
    {
      "cell_type": "code",
      "metadata": {
        "id": "SLYb4yapPBEH",
        "colab_type": "code",
        "colab": {
          "base_uri": "https://localhost:8080/",
          "height": 34
        },
        "outputId": "0c0ef1de-bf37-4b07-9370-5d2fd4a0cbd3"
      },
      "source": [
        "#Now we define image dimensions AND Convert images to matrix/arrays\n",
        "img_height = 100\n",
        "img_width = 100\n",
        "\n",
        "Xt = []\n",
        "\n",
        "for i in tqdm(range(samplesub.shape[0])):\n",
        "    path = '/content/drive/My Drive/giara/jukil/test/' + samplesub['UID'][i] + '.jpeg'\n",
        "    img = image.load_img(path, target_size=(img_height, img_width, 3))\n",
        "    img = image.img_to_array(img)\n",
        "    img = np.expand_dims(img, axis=0) \n",
        "    img = img/255.0\n",
        "    Xt.append(img)\n",
        "    \n",
        "Xt = np.array(Xt)"
      ],
      "execution_count": null,
      "outputs": [
        {
          "output_type": "stream",
          "text": [
            "100%|██████████| 3558/3558 [00:12<00:00, 280.69it/s]\n"
          ],
          "name": "stderr"
        }
      ]
    },
    {
      "cell_type": "code",
      "metadata": {
        "id": "hoMIURBOf6o4",
        "colab_type": "code",
        "colab": {}
      },
      "source": [
        "    \n",
        "pred = model_best.predict_classes(img)\n",
        "index = np.argmax(pred)\n",
        "class_list.sort()\n",
        "pred_value = class_list[index]"
      ],
      "execution_count": null,
      "outputs": []
    },
    {
      "cell_type": "code",
      "metadata": {
        "id": "hzHpE_pXRPiW",
        "colab_type": "code",
        "colab": {}
      },
      "source": [
        ""
      ],
      "execution_count": null,
      "outputs": []
    }
  ]
}